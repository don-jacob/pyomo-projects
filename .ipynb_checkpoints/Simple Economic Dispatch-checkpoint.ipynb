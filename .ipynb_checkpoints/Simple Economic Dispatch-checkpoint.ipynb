{
 "cells": [
  {
   "cell_type": "code",
   "execution_count": 1,
   "metadata": {
    "ExecuteTime": {
     "end_time": "2020-03-21T16:17:43.066699Z",
     "start_time": "2020-03-21T16:17:41.974217Z"
    }
   },
   "outputs": [],
   "source": [
    "import pyomo.environ as pyo\n",
    "from pyomo.opt import SolverFactory\n",
    "import pandas as pd"
   ]
  },
  {
   "cell_type": "markdown",
   "metadata": {},
   "source": [
    "    minimize a[i] + b[i]*P[i] + c[i]*P[i]**2; i=(1,2,3)\n",
    "        s.t. sum(P[i]) = 975\n",
    "             Pmin[i] <= P[i] <= Pmax[i]"
   ]
  },
  {
   "cell_type": "code",
   "execution_count": 4,
   "metadata": {
    "ExecuteTime": {
     "end_time": "2020-03-21T16:18:27.814217Z",
     "start_time": "2020-03-21T16:18:27.719218Z"
    }
   },
   "outputs": [
    {
     "name": "stdout",
     "output_type": "stream",
     "text": [
      "*********MODEL DISPLAY*************\n",
      "Model unknown\n",
      "\n",
      "  Variables:\n",
      "    P1 : Size=1, Index=None\n",
      "        Key  : Lower : Value             : Upper : Fixed : Stale : Domain\n",
      "        None :   200 : 449.9999931420331 :   450 : False : False : NonNegativeReals\n",
      "    P2 : Size=1, Index=None\n",
      "        Key  : Lower : Value            : Upper : Fixed : Stale : Domain\n",
      "        None :   150 : 325.000003624922 :   350 : False : False : NonNegativeReals\n",
      "    P3 : Size=1, Index=None\n",
      "        Key  : Lower : Value              : Upper : Fixed : Stale : Domain\n",
      "        None :   100 : 200.00000323304482 :   225 : False : False : NonNegativeReals\n",
      "\n",
      "  Objectives:\n",
      "    profit : Size=1, Index=None, Active=True\n",
      "        Key  : Active : Value\n",
      "        None :   True : 8236.250003428982\n",
      "\n",
      "  Constraints:\n",
      "    demand : Size=1\n",
      "        Key  : Lower : Body              : Upper\n",
      "        None : 975.0 : 974.9999999999999 : 975.0\n",
      "*********MODEL PPRINT**************\n",
      "3 Var Declarations\n",
      "    P1 : Size=1, Index=None\n",
      "        Key  : Lower : Value             : Upper : Fixed : Stale : Domain\n",
      "        None :   200 : 449.9999931420331 :   450 : False : False : NonNegativeReals\n",
      "    P2 : Size=1, Index=None\n",
      "        Key  : Lower : Value            : Upper : Fixed : Stale : Domain\n",
      "        None :   150 : 325.000003624922 :   350 : False : False : NonNegativeReals\n",
      "    P3 : Size=1, Index=None\n",
      "        Key  : Lower : Value              : Upper : Fixed : Stale : Domain\n",
      "        None :   100 : 200.00000323304482 :   225 : False : False : NonNegativeReals\n",
      "\n",
      "1 Objective Declarations\n",
      "    profit : Size=1, Index=None, Active=True\n",
      "        Key  : Active : Sense    : Expression\n",
      "        None :   True : minimize : 500 + 5.3*P1 + 0.004*P1**2 + 400 + 5.5*P2 + 0.006*P2**2 + 200 + 5.8*P3 + 0.009*P3**2\n",
      "\n",
      "1 Constraint Declarations\n",
      "    demand : Size=1, Index=None, Active=True\n",
      "        Key  : Lower : Body         : Upper : Active\n",
      "        None : 975.0 : P1 + P2 + P3 : 975.0 :   True\n",
      "\n",
      "1 Suffix Declarations\n",
      "    dual : Direction=Suffix.IMPORT, Datatype=Suffix.FLOAT\n",
      "        Key    : Value\n",
      "        demand : 9.400000161065103\n",
      "\n",
      "6 Declarations: dual P1 P2 P3 profit demand\n",
      "*********MODEL RESULTS*************\n",
      "# ==========================================================\n",
      "# = Solver Results                                         =\n",
      "# ==========================================================\n",
      "# ----------------------------------------------------------\n",
      "#   Problem Information\n",
      "# ----------------------------------------------------------\n",
      "Problem: \n",
      "- Name: tmpd2gpglb5\n",
      "  Lower bound: 8236.25000342898\n",
      "  Upper bound: 8236.25000342898\n",
      "  Number of objectives: 1\n",
      "  Number of constraints: 3\n",
      "  Number of variables: 4\n",
      "  Number of nonzeros: 7\n",
      "  Sense: minimize\n",
      "# ----------------------------------------------------------\n",
      "#   Solver Information\n",
      "# ----------------------------------------------------------\n",
      "Solver: \n",
      "- Status: ok\n",
      "  User time: 0.02\n",
      "  Termination condition: optimal\n",
      "  Termination message: Barrier - Optimal\\x3a Objective = 8.2362500034e+03\n",
      "  Error rc: 0\n",
      "  Time: 0.04700040817260742\n",
      "# ----------------------------------------------------------\n",
      "#   Solution Information\n",
      "# ----------------------------------------------------------\n",
      "Solution: \n",
      "- number of solutions: 0\n",
      "  number of solutions displayed: 0\n",
      "None\n"
     ]
    }
   ],
   "source": [
    "model = pyo.ConcreteModel()\n",
    "\n",
    "# for access to dual solution for constraints\n",
    "model.dual = pyo.Suffix(direction=pyo.Suffix.IMPORT)\n",
    "\n",
    "# declare decision variables\n",
    "model.P1 = pyo.Var(domain=pyo.NonNegativeReals,bounds=(200,450))\n",
    "model.P2 = pyo.Var(domain=pyo.NonNegativeReals,bounds=(150,350))\n",
    "model.P3 = pyo.Var(domain=pyo.NonNegativeReals,bounds=(100,225))\n",
    "\n",
    "# declare objective\n",
    "model.profit = pyo.Objective(\n",
    "    expr = 500 + 5.3*model.P1 + 0.004*model.P1**2 + \\\n",
    "           400 + 5.5*model.P2 + 0.006*model.P2**2 + \\\n",
    "           200 + 5.8*model.P3 + 0.009*model.P3**2,\n",
    "    sense = pyo.minimize)\n",
    "\n",
    "# declare constraints\n",
    "model.demand = pyo.Constraint(expr = (975, model.P1 + model.P2 + model.P3, 975))\n",
    "\n",
    "opt = SolverFactory('cplex')\n",
    "results = opt.solve(model) \n",
    "\n",
    "print('*********MODEL DISPLAY*************')\n",
    "model.display()\n",
    "print('*********MODEL PPRINT**************')\n",
    "model.pprint()\n",
    "print('*********MODEL RESULTS*************')\n",
    "print(results.write())"
   ]
  },
  {
   "cell_type": "code",
   "execution_count": 3,
   "metadata": {
    "ExecuteTime": {
     "end_time": "2020-03-21T16:17:47.906715Z",
     "start_time": "2020-03-21T16:17:47.891538Z"
    }
   },
   "outputs": [
    {
     "name": "stdout",
     "output_type": "stream",
     "text": [
      "*********DECISION VARIABLES**********\n"
     ]
    },
    {
     "data": {
      "text/html": [
       "<div>\n",
       "<style scoped>\n",
       "    .dataframe tbody tr th:only-of-type {\n",
       "        vertical-align: middle;\n",
       "    }\n",
       "\n",
       "    .dataframe tbody tr th {\n",
       "        vertical-align: top;\n",
       "    }\n",
       "\n",
       "    .dataframe thead th {\n",
       "        text-align: right;\n",
       "    }\n",
       "</style>\n",
       "<table border=\"1\" class=\"dataframe\">\n",
       "  <thead>\n",
       "    <tr style=\"text-align: right;\">\n",
       "      <th></th>\n",
       "      <th>Lower Bound</th>\n",
       "      <th>value</th>\n",
       "      <th>Upper Bound</th>\n",
       "    </tr>\n",
       "  </thead>\n",
       "  <tbody>\n",
       "    <tr>\n",
       "      <th>0</th>\n",
       "      <td>200</td>\n",
       "      <td>449.999993</td>\n",
       "      <td>450</td>\n",
       "    </tr>\n",
       "    <tr>\n",
       "      <th>1</th>\n",
       "      <td>150</td>\n",
       "      <td>325.000004</td>\n",
       "      <td>350</td>\n",
       "    </tr>\n",
       "    <tr>\n",
       "      <th>2</th>\n",
       "      <td>100</td>\n",
       "      <td>200.000003</td>\n",
       "      <td>225</td>\n",
       "    </tr>\n",
       "  </tbody>\n",
       "</table>\n",
       "</div>"
      ],
      "text/plain": [
       "   Lower Bound       value  Upper Bound\n",
       "0          200  449.999993          450\n",
       "1          150  325.000004          350\n",
       "2          100  200.000003          225"
      ]
     },
     "execution_count": 3,
     "metadata": {},
     "output_type": "execute_result"
    }
   ],
   "source": [
    "print('*********DECISION VARIABLES**********')\n",
    "constraint_cols = ['Lower Bound','value','Upper Bound']\n",
    "constraint_data = tuple()\n",
    "(P1_lb,P1_ub) = model.P1.bounds\n",
    "(P2_lb,P2_ub) = model.P2.bounds\n",
    "(P3_lb,P3_ub) = model.P3.bounds\n",
    "constraint_data = (\n",
    "    (P1_lb,model.P1(),P1_ub),\n",
    "    (P2_lb,model.P2(),P2_ub),\n",
    "    (P3_lb,model.P3(),P3_ub)\n",
    ")\n",
    "df = pd.DataFrame(constraint_data,columns=constraint_cols)\n",
    "df"
   ]
  },
  {
   "cell_type": "code",
   "execution_count": 5,
   "metadata": {
    "ExecuteTime": {
     "end_time": "2020-03-21T16:18:31.297710Z",
     "start_time": "2020-03-21T16:18:31.280709Z"
    }
   },
   "outputs": [
    {
     "name": "stdout",
     "output_type": "stream",
     "text": [
      "*********INCREMENTAL COST**********\n"
     ]
    },
    {
     "data": {
      "text/html": [
       "<div>\n",
       "<style scoped>\n",
       "    .dataframe tbody tr th:only-of-type {\n",
       "        vertical-align: middle;\n",
       "    }\n",
       "\n",
       "    .dataframe tbody tr th {\n",
       "        vertical-align: top;\n",
       "    }\n",
       "\n",
       "    .dataframe thead th {\n",
       "        text-align: right;\n",
       "    }\n",
       "</style>\n",
       "<table border=\"1\" class=\"dataframe\">\n",
       "  <thead>\n",
       "    <tr style=\"text-align: right;\">\n",
       "      <th></th>\n",
       "      <th>Constraint</th>\n",
       "      <th>value</th>\n",
       "      <th>lslack</th>\n",
       "      <th>uslack</th>\n",
       "      <th>dual</th>\n",
       "    </tr>\n",
       "  </thead>\n",
       "  <tbody>\n",
       "    <tr>\n",
       "      <th>0</th>\n",
       "      <td>demand</td>\n",
       "      <td>975.0</td>\n",
       "      <td>-1.136868e-13</td>\n",
       "      <td>1.136868e-13</td>\n",
       "      <td>9.4</td>\n",
       "    </tr>\n",
       "  </tbody>\n",
       "</table>\n",
       "</div>"
      ],
      "text/plain": [
       "  Constraint  value        lslack        uslack  dual\n",
       "0     demand  975.0 -1.136868e-13  1.136868e-13   9.4"
      ]
     },
     "execution_count": 5,
     "metadata": {},
     "output_type": "execute_result"
    }
   ],
   "source": [
    "print('*********INCREMENTAL COST**********')\n",
    "constraint_cols = ['Constraint','value','lslack','uslack','dual']\n",
    "constraint_data = tuple()\n",
    "constraint_data += ((f'{model.demand}',model.demand(),model.demand.lslack(),model.demand.uslack(),model.dual[model.demand]),)\n",
    "import pandas as pd\n",
    "df = pd.DataFrame(constraint_data,columns=constraint_cols)\n",
    "df"
   ]
  },
  {
   "cell_type": "code",
   "execution_count": null,
   "metadata": {},
   "outputs": [],
   "source": []
  }
 ],
 "metadata": {
  "kernelspec": {
   "display_name": "Python 3",
   "language": "python",
   "name": "python3"
  },
  "language_info": {
   "codemirror_mode": {
    "name": "ipython",
    "version": 3
   },
   "file_extension": ".py",
   "mimetype": "text/x-python",
   "name": "python",
   "nbconvert_exporter": "python",
   "pygments_lexer": "ipython3",
   "version": "3.8.2"
  },
  "latex_envs": {
   "LaTeX_envs_menu_present": true,
   "autoclose": true,
   "autocomplete": true,
   "bibliofile": "biblio.bib",
   "cite_by": "apalike",
   "current_citInitial": 1,
   "eqLabelWithNumbers": true,
   "eqNumInitial": 1,
   "hotkeys": {
    "equation": "Ctrl-E",
    "itemize": "Ctrl-I"
   },
   "labels_anchors": false,
   "latex_user_defs": false,
   "report_style_numbering": false,
   "user_envs_cfg": false
  }
 },
 "nbformat": 4,
 "nbformat_minor": 4
}
